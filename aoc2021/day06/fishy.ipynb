{
 "cells": [
  {
   "cell_type": "markdown",
   "id": "666c5512",
   "metadata": {},
   "source": [
    "Let's model a simple system.\n",
    "\n",
    "Just have fish reproduce every 7 days, ignore the 2-day new-fish lag for now.\n",
    "\n",
    "They all start at a 0-counter for now.\n",
    "\n",
    "They'll double every 7 days starting on day 0, easy peasy."
   ]
  },
  {
   "cell_type": "code",
   "execution_count": 1,
   "id": "8d618afa",
   "metadata": {},
   "outputs": [
    {
     "name": "stdout",
     "output_type": "stream",
     "text": [
      "days \tfish\n",
      "0 \t 2\n",
      "1 \t 2\n",
      "2 \t 2\n",
      "3 \t 2\n",
      "4 \t 2\n",
      "5 \t 2\n",
      "6 \t 2\n",
      "7 \t 4\n",
      "8 \t 4\n",
      "9 \t 4\n",
      "10 \t 4\n",
      "11 \t 4\n",
      "12 \t 4\n",
      "13 \t 4\n",
      "14 \t 8\n",
      "15 \t 8\n",
      "16 \t 8\n",
      "17 \t 8\n",
      "18 \t 8\n",
      "19 \t 8\n",
      "20 \t 8\n",
      "21 \t 16\n"
     ]
    }
   ],
   "source": [
    "# initially we have one fish\n",
    "# fish = [0]\n",
    "# after day 0 we have 2 fish:\n",
    "# fish = 6, 6\n",
    "# after day 7 we have 4 fish, etc.\n",
    "# after day 14 we have 8 fish, etc.\n",
    "# So it's 2^(days//7) fish.\n",
    "\n",
    "print(\"days \\tfish\")\n",
    "for days in range(22):\n",
    "    print(days, '\\t', pow(2, days // 7 + 1))"
   ]
  },
  {
   "cell_type": "code",
   "execution_count": 2,
   "id": "7d7e9e6e",
   "metadata": {},
   "outputs": [
    {
     "name": "stdout",
     "output_type": "stream",
     "text": [
      "8\n",
      "16\n"
     ]
    }
   ],
   "source": [
    "# or more generally\n",
    "def fish_at_day(day):\n",
    "    return pow(2, day // 7 + 1)\n",
    "\n",
    "\n",
    "print(fish_at_day(20))\n",
    "print(fish_at_day(21))"
   ]
  },
  {
   "cell_type": "markdown",
   "id": "357f0ae7",
   "metadata": {},
   "source": [
    "Now we can easily extend that to fish with different clocks. \n",
    "\n",
    "Just need to incorporate 'clock' into the formula.\n"
   ]
  },
  {
   "cell_type": "code",
   "execution_count": 3,
   "id": "9fdb8da4",
   "metadata": {},
   "outputs": [
    {
     "name": "stdout",
     "output_type": "stream",
     "text": [
      "16\n",
      "8\n",
      "16\n"
     ]
    }
   ],
   "source": [
    "def fish_at_day(day, clock):\n",
    "    return pow(2, (day-clock) // 7 + 1)\n",
    "\n",
    "print(fish_at_day(21, 0))  # A single '0' fish will become 16 fish by day 21\n",
    "print(fish_at_day(21, 1))  # A single '1' fish will only become 8 fish by then\n",
    "print(fish_at_day(22, 1))  # The '1' fish becomes 16 fish on day 22."
   ]
  },
  {
   "cell_type": "code",
   "execution_count": 4,
   "id": "bd4f6bdc",
   "metadata": {},
   "outputs": [],
   "source": [
    "# How do we model multiple fish? Let's use a counter dict.\n",
    "fish = {i:0 for i in range(7)}\n",
    "fish[0] = 2  # we start with two \"0\" fish\n",
    "fish[4] = 3  # and three \"4\" fish"
   ]
  },
  {
   "cell_type": "code",
   "execution_count": 5,
   "id": "43d3c120",
   "metadata": {},
   "outputs": [],
   "source": [
    "# Update the formula so it takes the starting number of fish into account\n",
    "def fish_at_day(day, clock, starting):\n",
    "    return pow(2, (day-clock) // 7 + 1) * starting"
   ]
  },
  {
   "cell_type": "code",
   "execution_count": 6,
   "id": "01182637",
   "metadata": {},
   "outputs": [
    {
     "name": "stdout",
     "output_type": "stream",
     "text": [
      "clock \t count\n",
      "0 \t 8\n",
      "4 \t 12\n"
     ]
    }
   ],
   "source": [
    "# OK, so how many fish do we get by day 11?\n",
    "# We should have eight \"0\" fish and twelve \"4\" fish.\n",
    "day = 11\n",
    "print(\"clock \\t count\")\n",
    "for clock, count in fish.items():\n",
    "    if not count:\n",
    "        continue\n",
    "    print(clock, '\\t', fish_at_day(day, clock, count))\n"
   ]
  },
  {
   "cell_type": "code",
   "execution_count": 7,
   "id": "e150fae3",
   "metadata": {},
   "outputs": [
    {
     "name": "stdout",
     "output_type": "stream",
     "text": [
      "initially\n",
      "clock \t count\n",
      "0 \t 2\n",
      "5 \t 1\n",
      "\n",
      "after 0 days\n",
      "clock \t count\n",
      "0 \t 4\n",
      "5 \t 1\n",
      "\n",
      "after 7 days\n",
      "clock \t count\n",
      "0 \t 8\n",
      "5 \t 2\n"
     ]
    }
   ],
   "source": [
    "# Cleaning it up\n",
    "\n",
    "def fish_after_time(days, fish):\n",
    "    fish_after = {i:0 for i in range(7)}\n",
    "    for clock, count in fish.items():\n",
    "        fish_after[clock] =  fish_at_day(days, clock, count)\n",
    "    return fish_after\n",
    "\n",
    "\n",
    "def print_fish(fish):\n",
    "    print(\"clock \\t count\")\n",
    "    for f in fish:\n",
    "        if fish[f] != 0:\n",
    "            print(f, '\\t', fish[f])\n",
    "\n",
    "fish = {0: 2, 5: 1}\n",
    "\n",
    "print(\"initially\")\n",
    "print_fish(fish)\n",
    "\n",
    "days = 0\n",
    "print(\"\\nafter\", days, 'days')\n",
    "print_fish(fish_after_time(days, fish))\n",
    "\n",
    "days = 7\n",
    "print(\"\\nafter\", days, 'days')\n",
    "print_fish(fish_after_time(days, fish))\n"
   ]
  },
  {
   "cell_type": "markdown",
   "id": "f0c96cd1",
   "metadata": {},
   "source": [
    "### Last challenge. How do we model the fact that \"new\" fish take longer before their first spawn?\n",
    "\n",
    "Well, I dunno. Got partway there but didn't solve it. \n",
    "\n",
    "Work after this point is rough draft stuff."
   ]
  },
  {
   "cell_type": "code",
   "execution_count": 8,
   "id": "70e2c19e",
   "metadata": {},
   "outputs": [
    {
     "name": "stdout",
     "output_type": "stream",
     "text": [
      "initially\n",
      "clock \t count\n",
      "0 \t 2\n",
      "5 \t 1\n",
      "\n",
      "after 0 days\n",
      "clock \t count\n",
      "0 \t 4\n",
      "5 \t 1\n",
      "\n",
      "New fish\n",
      "clock \t count\n",
      "0 \t 2\n"
     ]
    }
   ],
   "source": [
    "\"\"\"\n",
    "Idea: Let's compute at day 0, 7, 14...\n",
    "and just bump all the clocks by 2 for only the NEW fish.\n",
    "\"\"\"\n",
    "\n",
    "# Which ones are the new fish? Let's separate them out by subtracting the old fish.\n",
    "def new_fish(fish_after, fish_before):\n",
    "    new_fish = {i:0 for i in range(9)}\n",
    "    for f in new_fish.keys():\n",
    "        new_fish[f] = fish_after.get(f,0) - fish_before.get(f,0)\n",
    "    return new_fish\n",
    "\n",
    "fish = {0: 2, 5: 1}\n",
    "\n",
    "print(\"initially\")\n",
    "print_fish(fish)\n",
    "\n",
    "days = 0\n",
    "print(\"\\nafter\", days, 'days')\n",
    "fish_after = fish_after_time(days, fish)\n",
    "print_fish(fish_after)\n",
    "\n",
    "print(\"\\nNew fish\")\n",
    "print_fish(new_fish(fish_after, fish))"
   ]
  },
  {
   "cell_type": "code",
   "execution_count": 9,
   "id": "de6c5487",
   "metadata": {},
   "outputs": [
    {
     "name": "stdout",
     "output_type": "stream",
     "text": [
      "clock \t count\n",
      "0 \t 2\n"
     ]
    },
    {
     "ename": "NameError",
     "evalue": "name 'bump_clocks' is not defined",
     "output_type": "error",
     "traceback": [
      "\u001b[0;31m---------------------------------------------------------------------------\u001b[0m",
      "\u001b[0;31mNameError\u001b[0m                                 Traceback (most recent call last)",
      "\u001b[0;32m<ipython-input-9-43da975ea155>\u001b[0m in \u001b[0;36m<module>\u001b[0;34m\u001b[0m\n\u001b[1;32m      9\u001b[0m \u001b[0;34m\u001b[0m\u001b[0m\n\u001b[1;32m     10\u001b[0m \u001b[0mprint_fish\u001b[0m\u001b[0;34m(\u001b[0m\u001b[0mnf\u001b[0m\u001b[0;34m)\u001b[0m\u001b[0;34m\u001b[0m\u001b[0;34m\u001b[0m\u001b[0m\n\u001b[0;32m---> 11\u001b[0;31m \u001b[0mprint_fish\u001b[0m\u001b[0;34m(\u001b[0m\u001b[0mbump_clocks\u001b[0m\u001b[0;34m(\u001b[0m\u001b[0mnf\u001b[0m\u001b[0;34m)\u001b[0m\u001b[0;34m)\u001b[0m\u001b[0;34m\u001b[0m\u001b[0;34m\u001b[0m\u001b[0m\n\u001b[0m",
      "\u001b[0;31mNameError\u001b[0m: name 'bump_clocks' is not defined"
     ]
    }
   ],
   "source": [
    "# So now we have the new fish isolated, we can bump their clocks up.\n",
    "nf = new_fish(fish_after, fish)\n",
    "\n",
    "def set_clocks(new_fish):\n",
    "    fish = {i:0 for i in range(9)}\n",
    "    for f in new_fish:\n",
    "        fish[8] = new_fish[f]\n",
    "    return fish\n",
    "\n",
    "print_fish(nf)\n",
    "print_fish(bump_clocks(nf))"
   ]
  },
  {
   "cell_type": "code",
   "execution_count": null,
   "id": "17f39e6b",
   "metadata": {},
   "outputs": [],
   "source": [
    "# putting it all together\n",
    "\n",
    "# test input\n",
    "fish_before = {1: 1, 2: 1, 3: 2, 4: 1}\n",
    "days = 80\n",
    "\n",
    "for d in range(days):\n",
    "    fish_after = {}\n",
    "    for f in sorted(fish_before.keys()):\n",
    "        if f == 0:\n",
    "            fish_after[6] = fish_after.get(6, 0) + fish_before[f]\n",
    "            fish_after[8] = fish_after.get(8, 0) + fish_before[f]\n",
    "        else:\n",
    "            fish_after[f-1] = fish_after.get(f-1, 0) + fish_before[f] \n",
    "    fish_before = fish_after\n",
    "    \n",
    "print_fish(fish_before)\n",
    "print(\"total\", sum(fish_after.values()))"
   ]
  },
  {
   "cell_type": "code",
   "execution_count": null,
   "id": "fc387a11",
   "metadata": {},
   "outputs": [],
   "source": []
  }
 ],
 "metadata": {
  "kernelspec": {
   "display_name": "Python 3",
   "language": "python",
   "name": "python3"
  },
  "language_info": {
   "codemirror_mode": {
    "name": "ipython",
    "version": 3
   },
   "file_extension": ".py",
   "mimetype": "text/x-python",
   "name": "python",
   "nbconvert_exporter": "python",
   "pygments_lexer": "ipython3",
   "version": "3.8.8"
  }
 },
 "nbformat": 4,
 "nbformat_minor": 5
}
